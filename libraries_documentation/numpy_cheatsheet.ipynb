{
 "cells": [
  {
   "cell_type": "markdown",
   "metadata": {},
   "source": [
    "# Numpy\n",
    "Or called the **Numeric Python** is a library used for performing calculations on arrays and matrices. It provides faster calculation as compared to Python inbuilt libraries because the logics and algorithms in NumPy are written in C++.  \n",
    "\n",
    "## Basics\n",
    "The most basic functionality i.e. creation of array. NumPy array class `ndarray` is different from python lists and arrays. The values in the array should be of same data type. Otherwise, NumPy will implicitly typecast it to maintain homogeneity. Dimensions are called `axes`. Some of the important attributes of the class `ndarray` are `ndim`, `shape`, `size`, `dtype`, `itemsize`, and `data`. The usage of these attributes are demonstrated below."
   ]
  },
  {
   "cell_type": "code",
   "execution_count": 1,
   "metadata": {},
   "outputs": [],
   "source": [
    "import numpy as np # convention of aliasing"
   ]
  },
  {
   "cell_type": "code",
   "execution_count": 2,
   "metadata": {},
   "outputs": [
    {
     "name": "stdout",
     "output_type": "stream",
     "text": [
      "2\n",
      "(2, 3)\n",
      "6\n",
      "int64\n",
      "8\n",
      "<memory at 0x10e8dbad0>\n",
      "<class 'numpy.ndarray'>\n"
     ]
    }
   ],
   "source": [
    "n = np.array([[1,2,3],[4,5,6]])\n",
    "print(n.ndim) # dimension or number of axes\n",
    "print(n.shape) # no. of rows and columns\n",
    "print(n.size) # no. of element\n",
    "print(n.dtype) # data type of elements\n",
    "print(n.itemsize) # space occupied in bytes by each element\n",
    "print(n.data) # address of buffer that stores the array\n",
    "print(type(n))"
   ]
  },
  {
   "cell_type": "markdown",
   "metadata": {},
   "source": [
    "## Array Creation\n",
    "There are many ways of creating an array. One way is using `np.array` function which takes python list as an argument. It takes a keyword argument `dtype` where the type of elements can be mentioned. Implicit typecasting is taken care by NumPy. "
   ]
  },
  {
   "cell_type": "code",
   "execution_count": 3,
   "metadata": {},
   "outputs": [
    {
     "name": "stdout",
     "output_type": "stream",
     "text": [
      "empty array []\n",
      "int typecasted to float [[1. 2. 3.]\n",
      " [4. 5. 6.]] float64\n",
      "complex array [[1.+0.j 2.+0.j 3.+0.j]\n",
      " [4.+0.j 5.+0.j 6.+0.j]]\n",
      "int typecasted to str ['1' '2' 'one']\n",
      "bool and int typecasted to str ['1' '2' 'True' '3' 'False' 'h']\n",
      "--------------------------------------------------------------\n"
     ]
    }
   ],
   "source": [
    "empty_arr = np.array([])\n",
    "print(\"empty array\", empty_arr)\n",
    "\n",
    "arr = np.array([[1,2,3],[4.0,5,6]])\n",
    "print(\"int typecasted to float\", arr, arr.dtype)\n",
    "\n",
    "complex_arr = np.array([[1,2,3],[4.0,5,6]], dtype=complex)\n",
    "print(\"complex array\", complex_arr)\n",
    "\n",
    "a = np.array([1,2,'one'])\n",
    "print(\"int typecasted to str\", a)\n",
    "b = np.array([1,2,True,3, False,'h'])\n",
    "print(\"bool and int typecasted to str\", b)\n",
    "print(\"--------------------------------------------------------------\")"
   ]
  },
  {
   "cell_type": "markdown",
   "metadata": {},
   "source": [
    "NumPy allows creation of placeholder matrices, provided the shape is known. This reduces the overhead of extending a 0-sized matrix. Various functions for this purpose are `ones`, `zeros`,`eye`, and `empty` among others"
   ]
  },
  {
   "cell_type": "code",
   "execution_count": 4,
   "metadata": {},
   "outputs": [
    {
     "name": "stdout",
     "output_type": "stream",
     "text": [
      "zeros array\n",
      " [[[0. 0. 0. 0.]\n",
      "  [0. 0. 0. 0.]\n",
      "  [0. 0. 0. 0.]]\n",
      "\n",
      " [[0. 0. 0. 0.]\n",
      "  [0. 0. 0. 0.]\n",
      "  [0. 0. 0. 0.]]]\n",
      "ones array\n",
      " [[[1. 1. 1.]\n",
      "  [1. 1. 1.]]]\n",
      "primary diagonal filled with one\n",
      " [[1. 0.]\n",
      " [0. 1.]]\n",
      "empty array, filled with garbage values\n",
      " [[1. 1. 1.]\n",
      " [1. 1. 1.]]\n",
      "--------------------------------------------------------------\n"
     ]
    }
   ],
   "source": [
    "print(\"zeros array\\n\", np.zeros((2,3,4)))\n",
    "print(\"ones array\\n\", np.ones((1,2,3)))\n",
    "print(\"primary diagonal filled with one\\n\", np.eye(2)) # will always be a square matrix\n",
    "print(\"empty array, filled with garbage values\\n\", np.empty((2,3)))\n",
    "print(\"--------------------------------------------------------------\")"
   ]
  },
  {
   "cell_type": "markdown",
   "metadata": {},
   "source": [
    "`arange` is analogous to `range` in python. It returns a 1D array with consecutive numbers starting from 0. `linspace(a,b,c)` returns an array of with of length c, where the elements are equidistantly placed between a and b. a and b are the first and last elements respectively in the resultant array.  "
   ]
  },
  {
   "cell_type": "code",
   "execution_count": 5,
   "metadata": {},
   "outputs": [
    {
     "data": {
      "text/plain": [
       "array([0, 1, 2, 3, 4, 5, 6, 7, 8, 9])"
      ]
     },
     "execution_count": 5,
     "metadata": {},
     "output_type": "execute_result"
    }
   ],
   "source": [
    "np.arange(10)"
   ]
  },
  {
   "cell_type": "code",
   "execution_count": 6,
   "metadata": {},
   "outputs": [
    {
     "data": {
      "text/plain": [
       "array([12, 15, 18, 21, 24, 27, 30, 33, 36, 39, 42, 45, 48, 51, 54])"
      ]
     },
     "execution_count": 6,
     "metadata": {},
     "output_type": "execute_result"
    }
   ],
   "source": [
    "np.arange(12,56,3)"
   ]
  },
  {
   "cell_type": "code",
   "execution_count": 7,
   "metadata": {},
   "outputs": [
    {
     "data": {
      "text/plain": [
       "array([1.2, 1.5, 1.8])"
      ]
     },
     "execution_count": 7,
     "metadata": {},
     "output_type": "execute_result"
    }
   ],
   "source": [
    "\"\"\"\n",
    "The parameters can be float. However, this is not advisable due to inconsistencies in storing floating point number in\n",
    "Python. Hence, the length of the array generated cannot be pre-determined. \n",
    "\"\"\"\n",
    "np.arange(1.2,2,0.3) "
   ]
  },
  {
   "cell_type": "code",
   "execution_count": 8,
   "metadata": {},
   "outputs": [
    {
     "data": {
      "text/plain": [
       "array([0.  , 0.25, 0.5 , 0.75, 1.  , 1.25, 1.5 , 1.75, 2.  ])"
      ]
     },
     "execution_count": 8,
     "metadata": {},
     "output_type": "execute_result"
    }
   ],
   "source": [
    "np.linspace(0,2,9)"
   ]
  },
  {
   "cell_type": "code",
   "execution_count": null,
   "metadata": {},
   "outputs": [],
   "source": [
    "Filtering data is a one step process here.\n",
    "```python\n",
    "a = np.array([1,2,7,2,9,7,5,4,3,2])\n",
    "b = a>3\n",
    "print(b) # [False False  True False  True  True  True  True False False]\n",
    "c = a[a>3]))\n",
    "print(c, type(c)) # [7 9 7 5 4]  <class 'numpy.ndarray'>\n",
    "```\n",
    "Operations to be performed on each element of list value does not require looping.\n",
    "```python\n",
    "a= np.array([1,2,3,4,5])\n",
    "b = a**2\n",
    "print(b) # [1,2,3,16,25]\n",
    "c = a+10\n",
    "print(c) # [11,12,13,14,15]\n",
    "```\n",
    "It also supports formation of multi-dimensional arrays. Homogeneity is maintained here as well.\n",
    "Accessing elements and slicing in np array is same as in python lists, i.e. through square brackets.\n",
    "```\n",
    "a=np.array([[1,2],[3,4],[5,6]])\n",
    "print(a.shape) # (3, 2)\n",
    "print(a[:,1]) # array([2, 4, 6])\n",
    "print(a[1,1]) # 4\n",
    "print(a[2]) # array([5, 6])\n",
    "```\n",
    "**.shape** return the dimensions of the array in tuple, where the first element is row and second is column.\n",
    "Statistics can also be performed using np. Few functions in use are as follows:\n",
    "```python\n",
    "a =np.array([12, 34, 23, 92, 76, 54, 76, 83, 91])\n",
    "print(np.mean(a)) # 60.111111111111114\n",
    "print(np.median(a)) # 76.0\n",
    "print(np.std(a)) # 28.695506595378866\n",
    "b =np.array([32, 45, 63, 78, 91, 67, 87, 20, 52])\n",
    "print(np.corrcoef(a)) # array([[1., 0.32346095], [0.32346095, 1.]])\n",
    "```\n",
    "```.mean() .median() .std() .corrcoef()``` are used to find mean, median, standard deviationand correlation coefficient respectively."
   ]
  }
 ],
 "metadata": {
  "kernelspec": {
   "display_name": "Python 3",
   "language": "python",
   "name": "python3"
  },
  "language_info": {
   "codemirror_mode": {
    "name": "ipython",
    "version": 3
   },
   "file_extension": ".py",
   "mimetype": "text/x-python",
   "name": "python",
   "nbconvert_exporter": "python",
   "pygments_lexer": "ipython3",
   "version": "3.8.5"
  }
 },
 "nbformat": 4,
 "nbformat_minor": 4
}
